{
  "cells": [
    {
      "cell_type": "code",
      "execution_count": 201,
      "metadata": {
        "id": "aPMvatbQ7_C4"
      },
      "outputs": [],
      "source": [
        "#import statements\n",
        "import pandas as pd\n",
        "import tensorflow as tf\n",
        "import matplotlib.pyplot as plt\n",
        "from music21 import converter, instrument, note, chord, stream, duration\n",
        "import glob\n",
        "import pickle \n",
        "import os\n",
        "from itertools import chain\n",
        "import copy"
      ]
    },
    {
      "cell_type": "code",
      "execution_count": 202,
      "metadata": {
        "id": "2RBI4UDFDr6A"
      },
      "outputs": [],
      "source": [
        "\n",
        "def data_extractor(directory):\n",
        "  \"\"\"\n",
        "    Summary:\n",
        "    Function converts midi files to metadata and appends nested metadata lists into one large list\n",
        "    composed of all the songs in the dataset.\n",
        "\n",
        "    Parameters:\n",
        "    directory: String representation of directroy where midi files are located\n",
        "\n",
        "    Returns:\n",
        "    list: sequential midi file metadata \n",
        "   \"\"\"\n",
        "  data = []\n",
        "  for file in glob.glob(directory):\n",
        "          mid = converter.parse(file)\n",
        "          notes_to_parse = None\n",
        "          \n",
        "\n",
        "          try: \n",
        "              s2 = instrument.partitionByInstrument(mid)\n",
        "              notes_to_parse = s2.parts[0].recurse() \n",
        "                 \n",
        "          except: \n",
        "              notes_to_parse = mid.flat.notes\n",
        "\n",
        "          for element in notes_to_parse:\n",
        "              if isinstance(element, note.Note):\n",
        "                  data.append([str(element.pitch),str(float(element.offset)), str(element.quarterLength)])\n",
        "              elif isinstance(element, chord.Chord):\n",
        "                  data.append(['.'.join(str(n) for n in element.normalOrder),str(float(element.offset)),str(element.quarterLength)])\n",
        "  return data\n",
        "\n",
        "data = data_extractor()\n",
        "  "
      ]
    },
    {
      "cell_type": "code",
      "source": [
        "def make_dict(data, to_int = True):\n",
        "  \"\"\"\n",
        "    Summary:\n",
        "    Function maps either midi metadata into integers and integers back into midi metadata.\n",
        "\n",
        "    Parameters:\n",
        "    data: the data to be used as keys in a dictionary\n",
        "    to_int: if the function maps from midi to int or int to midi\n",
        "    \n",
        "    Returns:\n",
        "    dictionary: dictioanry with keys from data argument \n",
        "   \"\"\"\n",
        "  unnested_data = list(chain(*data))\n",
        "  data_set = sorted(set(unnested_data))\n",
        "  if to_int:\n",
        "    notes_to_ints = dict((note,number) for number, note in enumerate(data_set))\n",
        "  else:\n",
        "    notes_to_ints = dict((number,note) for number, note in enumerate(data_set))\n",
        "\n",
        "  return notes_to_ints\n"
      ],
      "metadata": {
        "id": "Xi94z4feI-HK"
      },
      "execution_count": 203,
      "outputs": []
    },
    {
      "cell_type": "code",
      "source": [
        "def str_to_int():\n",
        "  \"\"\"\n",
        "  Summary:\n",
        "  Function maps original midi list data into the correspondong integer value from the defined ictionary\n",
        "\n",
        "  Returns:\n",
        "  list: integers corresponding to midi metadata \n",
        "  \"\"\"\n",
        "  mapper = make_dict(data)\n",
        "  mapped_sequence = copy.deepcopy(data)\n",
        "  for i in range(len(mapped_sequence)):\n",
        "    for j in range(len(mapped_sequence[i])):\n",
        "      mapped_sequence[i][j] = mapper[mapped_sequence[i][j]]\n",
        "      \n",
        "  return mapped_sequence\n",
        "\n"
      ],
      "metadata": {
        "id": "vsIJ_2PMMJFG"
      },
      "execution_count": 204,
      "outputs": []
    },
    {
      "cell_type": "code",
      "source": [
        "def int_to_string(output):\n",
        "  \"\"\"\n",
        "  Summary:\n",
        "  Function maps original integers values back into the midi metadata\n",
        "\n",
        "  Parameters:\n",
        "  output: model output list that need converting back into midi metadata\n",
        "\n",
        "  Returns:\n",
        "  list: midi metadata\n",
        "  \"\"\"\n",
        "  mapper = make_dict(data,to_int = False)\n",
        "  mapped_sequence = output\n",
        "  for i in range(len(mapped_sequence)):\n",
        "    for j in range(len(mapped_sequence[i])):\n",
        "      mapped_sequence[i][j] = mapper[mapped_sequence[i][j]]\n",
        "      \n",
        "  return mapped_sequence\n",
        "  "
      ],
      "metadata": {
        "id": "ZC-tGdtHNWwE"
      },
      "execution_count": 205,
      "outputs": []
    },
    {
      "cell_type": "code",
      "source": [
        "def to_midi(metadata):\n",
        "  \"\"\"\n",
        "  Summary:\n",
        "  Takes midi metadata and converts it to a Music21 stream. The stream can then easily be converted into a midi file.\n",
        "\n",
        "  Parameters:\n",
        "  metadata: midi metadata (notes,chords,offsets,durations)\n",
        "\n",
        "  Returns:\n",
        "  list: Music21 stream object\n",
        "  \"\"\"\n",
        "  s = stream.Stream()\n",
        "  for notes,offsets,duration in metadata:\n",
        "    if notes[0].isalpha():\n",
        "      n = note.Note(notes)\n",
        "      n.duration.quarterLength = float(duration)\n",
        "      s.insert(offsets,n)\n",
        "    else:\n",
        "      chords = list(map(int,notes.split('.')))\n",
        "      c = chord.Chord(chords)\n",
        "      c.duration.quarterLength = float(duration)\n",
        "      s.insert(offsets,c)\n",
        "  return s\n",
        "to_midi(int_to_string(str_to_int())).write(\"midi\", \"s.mid\")\n"
      ],
      "metadata": {
        "colab": {
          "base_uri": "https://localhost:8080/",
          "height": 37
        },
        "id": "d9-bc5MNv076",
        "outputId": "113fa94e-21e2-476c-d845-a013102ed692"
      },
      "execution_count": 206,
      "outputs": [
        {
          "output_type": "execute_result",
          "data": {
            "text/plain": [
              "'s.mid'"
            ],
            "application/vnd.google.colaboratory.intrinsic+json": {
              "type": "string"
            }
          },
          "metadata": {},
          "execution_count": 206
        }
      ]
    }
  ],
  "metadata": {
    "colab": {
      "provenance": []
    },
    "kernelspec": {
      "display_name": "Python 3",
      "name": "python3"
    },
    "language_info": {
      "name": "python"
    },
    "accelerator": "GPU",
    "gpuClass": "standard"
  },
  "nbformat": 4,
  "nbformat_minor": 0
}
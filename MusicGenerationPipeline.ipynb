{
  "cells": [
    {
      "cell_type": "code",
      "execution_count": 9,
      "metadata": {
        "colab": {
          "base_uri": "https://localhost:8080/"
        },
        "id": "JiAHuMXqtg9k",
        "outputId": "10db2821-5c33-45d5-b71f-d076f87b90d1"
      },
      "outputs": [
        {
          "output_type": "stream",
          "name": "stdout",
          "text": [
            "Mounted at /content/drive\n"
          ]
        }
      ],
      "source": [
        "from google.colab import drive\n",
        "drive.mount('/content/drive')"
      ]
    },
    {
      "cell_type": "code",
      "execution_count": 117,
      "metadata": {
        "id": "aPMvatbQ7_C4"
      },
      "outputs": [],
      "source": [
        "#import statements\n",
        "import pandas as pd\n",
        "import tensorflow as tf\n",
        "import matplotlib.pyplot as plt\n",
        "from music21 import converter, instrument, note, chord, stream, duration\n",
        "import glob\n",
        "import os\n",
        "from itertools import chain\n",
        "import copy\n",
        "import numpy as np\n",
        "from tensorflow.keras.callbacks import LambdaCallback\n",
        "from tensorflow.keras.models import Sequential\n",
        "from tensorflow.keras.layers import Dense, LSTM, Dropout\n",
        "from keras.layers import CuDNNLSTM,Bidirectional\n",
        "from tensorflow.keras.optimizers import Adam\n",
        "from tensorflow.keras import layers\n",
        "from sklearn.model_selection import train_test_split\n",
        "from numpy import argmax\n",
        "from fractions import Fraction\n",
        "import gc"
      ]
    },
    {
      "cell_type": "code",
      "execution_count": 95,
      "metadata": {
        "id": "2RBI4UDFDr6A"
      },
      "outputs": [],
      "source": [
        "def data_extractor(directory):\n",
        "  \"\"\"\n",
        "    Summary:\n",
        "    Function converts midi files to metadata and appends nested metadata lists into one large list\n",
        "    composed of all the songs in the dataset.\n",
        "\n",
        "    Parameters:\n",
        "    directory: String representation of directory where midi files are located\n",
        "\n",
        "    Returns:\n",
        "    list: sequential midi file metadata \n",
        "   \"\"\"\n",
        "  notes = []\n",
        "  offsets = []\n",
        "  durations = []\n",
        "  for file in glob.glob(directory):\n",
        "          mid = converter.parse(file)\n",
        "          notes_to_parse = None\n",
        "          prev_offset = 0\n",
        "          \n",
        "          try: \n",
        "              s2 = instrument.partitionByInstrument(mid)\n",
        "              notes_to_parse = s2.parts[0].recurse() \n",
        "              \n",
        "          except: \n",
        "              notes_to_parse = mid.flat.notes\n",
        "\n",
        "          for i,element in enumerate(notes_to_parse):\n",
        "              if isinstance(element, note.Note):\n",
        "                  notes.append(str(element.pitch))\n",
        "                  \n",
        "                  durations.append(str(element.quarterLength))\n",
        "                  \n",
        "                  offset_dif = float(element.offset-prev_offset)\n",
        "              \n",
        "                  offsets.append(round(offset_dif,3))\n",
        "                  prev_offset = element.offset\n",
        "             \n",
        "                 \n",
        "              elif isinstance(element, chord.Chord):\n",
        "                  notes.append('.'.join(str(n) for n in element.normalOrder))\n",
        "                  offset_dif = float(element.offset-prev_offset)\n",
        "\n",
        "                  durations.append(str(element.quarterLength))\n",
        "                  \n",
        "                  offsets.append(round(offset_dif,3))\n",
        "                  prev_offset = element.offset\n",
        "\n",
        "  return [notes,offsets,durations]"
      ]
    },
    {
      "cell_type": "code",
      "execution_count": 96,
      "metadata": {
        "id": "uM7ofNWWbp4Q"
      },
      "outputs": [],
      "source": [
        "data = data_extractor(\"/content/drive/MyDrive/midi_files/*.mid\")\n",
        "note_data = data[0]\n",
        "offset_data = data[1]\n",
        "duration_data = data[2]\n",
        "\n",
        "unique_note_number = len(list(set(note_data)))\n",
        "unique_notes = sorted(list(set(note_data)))\n",
        "unique_offset_number = len(list(set(offset_data)))\n",
        "unique_offsets = sorted(list(set(offset_data)))\n",
        "unique_duration_number = len(list(set(duration_data)))\n",
        "unique_durations = sorted(list(set(duration_data)))"
      ]
    },
    {
      "cell_type": "code",
      "source": [
        "def test_data_pipeline():\n",
        "  data = data_extractor(\"/content/drive/MyDrive/midi_short/*.mid\")\n",
        "  seg = make_segments(data_array = offset_data, unique_values = unique_offsets,segment_type = 'offset')\n",
        "  \n",
        "  check_list = []\n",
        "  for i in seg[0][1]:\n",
        "    check_list.append(one_hot_decode(i,unique_offsets)[0])\n",
        "\n",
        "  if check_list == offset_data[1:len(seg[0][1])+1]:\n",
        "\n",
        "    print('pipeline working')\n",
        "  else:\n",
        "    print('pipeline not working')\n",
        "test_data_pipeline()"
      ],
      "metadata": {
        "id": "G78xJ_cK4s12",
        "colab": {
          "base_uri": "https://localhost:8080/"
        },
        "outputId": "976a0135-99ac-4c04-a4e0-00d53b999c31"
      },
      "execution_count": 97,
      "outputs": [
        {
          "output_type": "stream",
          "name": "stderr",
          "text": [
            "/usr/local/lib/python3.7/dist-packages/ipykernel_launcher.py:14: FutureWarning: arrays to stack must be passed as a \"sequence\" type such as list or tuple. Support for non-sequence iterables such as generators is deprecated as of NumPy 1.16 and will raise an error in the future.\n",
            "  \n"
          ]
        },
        {
          "output_type": "stream",
          "name": "stdout",
          "text": [
            "pipeline working\n"
          ]
        }
      ]
    },
    {
      "cell_type": "code",
      "execution_count": 118,
      "metadata": {
        "id": "d9-bc5MNv076"
      },
      "outputs": [],
      "source": [
        "def to_midi(notes, offsets, durations):\n",
        "  \"\"\"\n",
        "  Summary:\n",
        "  Takes midi metadata and converts it to a Music21 stream. The stream can then easily be converted into a midi file.\n",
        "\n",
        "  Parameters:\n",
        "  metadata: midi metadata (notes,chords,offsets)\n",
        "\n",
        "  Returns:\n",
        "  list: Music21 stream object\n",
        "  \"\"\"\n",
        "  offset = offsets[0]\n",
        "  s = stream.Stream()\n",
        "  for i,ele in enumerate(notes):\n",
        "    if ele[0].isalpha():\n",
        "      n = note.Note(ele)\n",
        "      try:\n",
        "        n.quarterLength = float(durations[i])\n",
        "      except:\n",
        "        n.quarterLength = Fraction(durations[i])\n",
        "\n",
        "      s.insert(offset,n)\n",
        "\n",
        "      offset += offsets[i]\n",
        "    else:\n",
        "      chords = list(map(int,ele.split('.')))\n",
        "      c = chord.Chord(chords)\n",
        "\n",
        "      try:\n",
        "        c.quarterLength = float(durations[i])\n",
        "      except:\n",
        "        c.quarterLength = Fraction(durations[i])\n",
        "\n",
        "      s.insert(offset,c)\n",
        "\n",
        "      offset += offsets[i]\n",
        "  return s"
      ]
    },
    {
      "cell_type": "code",
      "execution_count": 99,
      "metadata": {
        "id": "FcFLfinnvOHJ"
      },
      "outputs": [],
      "source": [
        "def one_hot_encode(vector, all_values):\n",
        "  encoded_vectors = []\n",
        "  int_to_index = dict((c, i) for i, c in enumerate(all_values))\n",
        "  for i in vector:\n",
        "    zero = [0]*(len(all_values)-1)\n",
        "    zero.insert(int_to_index[i],1)\n",
        "    encoded_vectors.append(zero)\n",
        "  \n",
        "  return encoded_vectors"
      ]
    },
    {
      "cell_type": "code",
      "execution_count": 100,
      "metadata": {
        "id": "xuDs9q4Ftunv"
      },
      "outputs": [],
      "source": [
        "from numpy import argmax\n",
        "def one_hot_decode(vector,all_values):\n",
        "  decoded_vector = []\n",
        "  index_to_int = dict((i, c) for i, c in enumerate(all_values))\n",
        "  decoded_vector.append(index_to_int[argmax(vector)])\n",
        "  return decoded_vector"
      ]
    },
    {
      "cell_type": "code",
      "execution_count": 101,
      "metadata": {
        "id": "vvLcXr-7vr0j"
      },
      "outputs": [],
      "source": [
        "import keras.utils\n",
        "segment_length = 64\n",
        "def make_segments(data_array,unique_values, seq_length = segment_length,segment_type = 'note'):\n",
        "  input_seq = []\n",
        "  output_seq = []\n",
        "\n",
        "  processed_data = one_hot_encode(data_array,unique_values)\n",
        "  \n",
        "  for i in range(0,len(processed_data) - seq_length,1):\n",
        "    input_seq.append([processed_data[i:i+seq_length]])\n",
        "    output_seq.append(processed_data[seq_length + i])\n",
        "\n",
        "  del processed_data;gc.collect()\n",
        "  \n",
        "  input_seq = np.stack(arr[0] for arr in input_seq)\n",
        "  output_seq = np.array(output_seq)\n",
        "\n",
        "  return input_seq, output_seq"
      ]
    },
    {
      "cell_type": "code",
      "execution_count": 102,
      "metadata": {
        "colab": {
          "base_uri": "https://localhost:8080/"
        },
        "id": "utzraCh5bx4M",
        "outputId": "2ee489ec-2d59-4242-a4a7-05134f66fdde"
      },
      "outputs": [
        {
          "output_type": "stream",
          "name": "stderr",
          "text": [
            "/usr/local/lib/python3.7/dist-packages/IPython/core/interactiveshell.py:3326: FutureWarning: arrays to stack must be passed as a \"sequence\" type such as list or tuple. Support for non-sequence iterables such as generators is deprecated as of NumPy 1.16 and will raise an error in the future.\n",
            "  exec(code_obj, self.user_global_ns, self.user_ns)\n"
          ]
        }
      ],
      "source": [
        "note_model_data = make_segments(data_array = note_data, unique_values = unique_notes,segment_type = 'note')\n",
        "offset_model_data = make_segments(data_array = offset_data, unique_values = unique_offsets,segment_type = 'offset')\n",
        "duration_model_data = make_segments(data_array = duration_data, unique_values = unique_durations, segment_type = 'duration')"
      ]
    },
    {
      "cell_type": "code",
      "execution_count": 103,
      "metadata": {
        "id": "XYOpsKKdquwj"
      },
      "outputs": [],
      "source": [
        "X_train_note, X_test_note, y_train_note, y_test_note = train_test_split(note_model_data[0], note_model_data[1],test_size=0.2)\n",
        "X_train_off, X_test_off, y_train_off, y_test_off = train_test_split(offset_model_data[0], offset_model_data[1],test_size=0.2)\n",
        "X_train_dur, X_test_dur, y_train_dur, y_test_dur = train_test_split(duration_model_data[0], duration_model_data[1],test_size=0.2)"
      ]
    },
    {
      "cell_type": "code",
      "source": [
        "del note_model_data\n",
        "del offset_model_data\n",
        "del duration_model_data\n",
        "gc.collect()"
      ],
      "metadata": {
        "colab": {
          "base_uri": "https://localhost:8080/"
        },
        "id": "8fJhKOo-5swc",
        "outputId": "7a5713b9-a4f2-40a7-a6bf-23566b36d58a"
      },
      "execution_count": 104,
      "outputs": [
        {
          "output_type": "execute_result",
          "data": {
            "text/plain": [
              "44"
            ]
          },
          "metadata": {},
          "execution_count": 104
        }
      ]
    },
    {
      "cell_type": "code",
      "execution_count": 105,
      "metadata": {
        "id": "xlEoPwhuwo1i"
      },
      "outputs": [],
      "source": [
        "def make_model(input_shape,output_shape):\n",
        "  model = Sequential()\n",
        "  model.add(CuDNNLSTM(512,input_shape=input_shape,return_sequences=False))\n",
        "  model.add(Dropout(0.5))\n",
        "  model.add(Dense(256))\n",
        "  model.add(Dropout(0.25))\n",
        "  model.add(Dense(output_shape,activation = 'softmax'))\n",
        "\n",
        "  model.compile(\n",
        "      loss='categorical_crossentropy',\n",
        "      optimizer=Adam(learning_rate = .001),\n",
        "      metrics=['accuracy']\n",
        "  )\n",
        "  return model"
      ]
    },
    {
      "cell_type": "code",
      "execution_count": 106,
      "metadata": {
        "id": "hsMf8cKdb8MF"
      },
      "outputs": [],
      "source": [
        "model_notes = make_model(input_shape = (segment_length,unique_note_number), output_shape = unique_note_number)\n",
        "model_offsets = make_model(input_shape = (segment_length,unique_offset_number), output_shape = unique_offset_number)\n",
        "model_durations = make_model(input_shape = (segment_length,unique_duration_number), output_shape = unique_duration_number)"
      ]
    },
    {
      "cell_type": "code",
      "execution_count": 107,
      "metadata": {
        "id": "0zDE5bAKcNAY"
      },
      "outputs": [],
      "source": [
        "my_callbacks = [\n",
        "    tf.keras.callbacks.EarlyStopping(patience=10)\n",
        "]"
      ]
    },
    {
      "cell_type": "code",
      "execution_count": 110,
      "metadata": {
        "colab": {
          "base_uri": "https://localhost:8080/"
        },
        "id": "aQq6PZXycBIB",
        "outputId": "685ed088-e66f-49f0-e5eb-1c15d41ee8e1"
      },
      "outputs": [
        {
          "output_type": "stream",
          "name": "stdout",
          "text": [
            "Epoch 1/150\n",
            "138/138 [==============================] - 3s 16ms/step - loss: 4.3016 - accuracy: 0.0603 - val_loss: 3.8743 - val_accuracy: 0.0907\n",
            "Epoch 2/150\n",
            "138/138 [==============================] - 2s 14ms/step - loss: 3.7120 - accuracy: 0.1254 - val_loss: 3.5533 - val_accuracy: 0.1423\n",
            "Epoch 3/150\n",
            "138/138 [==============================] - 2s 14ms/step - loss: 3.4044 - accuracy: 0.1442 - val_loss: 3.3386 - val_accuracy: 0.1432\n",
            "Epoch 4/150\n",
            "138/138 [==============================] - 2s 14ms/step - loss: 3.1824 - accuracy: 0.1746 - val_loss: 3.2116 - val_accuracy: 0.1478\n",
            "Epoch 5/150\n",
            "138/138 [==============================] - 2s 14ms/step - loss: 3.0156 - accuracy: 0.1959 - val_loss: 3.1060 - val_accuracy: 0.1777\n",
            "Epoch 6/150\n",
            "138/138 [==============================] - 2s 14ms/step - loss: 2.8591 - accuracy: 0.2319 - val_loss: 2.9948 - val_accuracy: 0.1949\n",
            "Epoch 7/150\n",
            "138/138 [==============================] - 2s 14ms/step - loss: 2.7152 - accuracy: 0.2550 - val_loss: 2.9312 - val_accuracy: 0.2285\n",
            "Epoch 8/150\n",
            "138/138 [==============================] - 2s 14ms/step - loss: 2.5759 - accuracy: 0.2866 - val_loss: 2.8484 - val_accuracy: 0.2366\n",
            "Epoch 9/150\n",
            "138/138 [==============================] - 2s 14ms/step - loss: 2.4320 - accuracy: 0.3249 - val_loss: 2.7317 - val_accuracy: 0.2829\n",
            "Epoch 10/150\n",
            "138/138 [==============================] - 2s 14ms/step - loss: 2.2739 - accuracy: 0.3630 - val_loss: 2.7063 - val_accuracy: 0.3010\n",
            "Epoch 11/150\n",
            "138/138 [==============================] - 2s 14ms/step - loss: 2.1101 - accuracy: 0.4115 - val_loss: 2.5368 - val_accuracy: 0.3418\n",
            "Epoch 12/150\n",
            "138/138 [==============================] - 2s 13ms/step - loss: 1.9914 - accuracy: 0.4373 - val_loss: 2.4780 - val_accuracy: 0.3726\n",
            "Epoch 13/150\n",
            "138/138 [==============================] - 2s 13ms/step - loss: 1.8498 - accuracy: 0.4691 - val_loss: 2.4346 - val_accuracy: 0.4034\n",
            "Epoch 14/150\n",
            "138/138 [==============================] - 2s 14ms/step - loss: 1.6879 - accuracy: 0.5151 - val_loss: 2.3892 - val_accuracy: 0.4216\n",
            "Epoch 15/150\n",
            "138/138 [==============================] - 2s 15ms/step - loss: 1.5659 - accuracy: 0.5538 - val_loss: 2.3018 - val_accuracy: 0.4451\n",
            "Epoch 16/150\n",
            "138/138 [==============================] - 2s 14ms/step - loss: 1.4189 - accuracy: 0.5894 - val_loss: 2.2228 - val_accuracy: 0.4723\n",
            "Epoch 17/150\n",
            "138/138 [==============================] - 2s 14ms/step - loss: 1.2865 - accuracy: 0.6219 - val_loss: 2.1570 - val_accuracy: 0.4832\n",
            "Epoch 18/150\n",
            "138/138 [==============================] - 2s 14ms/step - loss: 1.1854 - accuracy: 0.6502 - val_loss: 2.1999 - val_accuracy: 0.5014\n",
            "Epoch 19/150\n",
            "138/138 [==============================] - 2s 14ms/step - loss: 1.0854 - accuracy: 0.6799 - val_loss: 2.1162 - val_accuracy: 0.5476\n",
            "Epoch 20/150\n",
            "138/138 [==============================] - 2s 14ms/step - loss: 0.9820 - accuracy: 0.7080 - val_loss: 2.0894 - val_accuracy: 0.5549\n",
            "Epoch 21/150\n",
            "138/138 [==============================] - 2s 14ms/step - loss: 0.8769 - accuracy: 0.7440 - val_loss: 2.0408 - val_accuracy: 0.5802\n",
            "Epoch 22/150\n",
            "138/138 [==============================] - 2s 14ms/step - loss: 0.7873 - accuracy: 0.7626 - val_loss: 2.0859 - val_accuracy: 0.5893\n",
            "Epoch 23/150\n",
            "138/138 [==============================] - 2s 14ms/step - loss: 0.7205 - accuracy: 0.7844 - val_loss: 2.0676 - val_accuracy: 0.5929\n",
            "Epoch 24/150\n",
            "138/138 [==============================] - 2s 14ms/step - loss: 0.6459 - accuracy: 0.8087 - val_loss: 2.0644 - val_accuracy: 0.6047\n",
            "Epoch 25/150\n",
            "138/138 [==============================] - 2s 14ms/step - loss: 0.5827 - accuracy: 0.8184 - val_loss: 2.0992 - val_accuracy: 0.6174\n",
            "Epoch 26/150\n",
            "138/138 [==============================] - 2s 14ms/step - loss: 0.5220 - accuracy: 0.8406 - val_loss: 2.0956 - val_accuracy: 0.6510\n",
            "Epoch 27/150\n",
            "138/138 [==============================] - 2s 15ms/step - loss: 0.4811 - accuracy: 0.8554 - val_loss: 2.2091 - val_accuracy: 0.6374\n",
            "Epoch 28/150\n",
            "138/138 [==============================] - 2s 14ms/step - loss: 0.4214 - accuracy: 0.8719 - val_loss: 2.2304 - val_accuracy: 0.6482\n",
            "Epoch 29/150\n",
            "138/138 [==============================] - 2s 14ms/step - loss: 0.4127 - accuracy: 0.8728 - val_loss: 2.2638 - val_accuracy: 0.6428\n",
            "Epoch 30/150\n",
            "138/138 [==============================] - 2s 14ms/step - loss: 0.3649 - accuracy: 0.8891 - val_loss: 2.3164 - val_accuracy: 0.6537\n",
            "Epoch 31/150\n",
            "138/138 [==============================] - 2s 14ms/step - loss: 0.3349 - accuracy: 0.8987 - val_loss: 2.3091 - val_accuracy: 0.6519\n"
          ]
        }
      ],
      "source": [
        "history_note = model_notes.fit(X_train_note,y_train_note,epochs=150, validation_split = 0.2, callbacks = my_callbacks)"
      ]
    },
    {
      "cell_type": "code",
      "execution_count": 109,
      "metadata": {
        "colab": {
          "base_uri": "https://localhost:8080/"
        },
        "id": "eGp9R-18cEbB",
        "outputId": "472fba12-7b4f-45c9-964b-ad219968fafa"
      },
      "outputs": [
        {
          "output_type": "stream",
          "name": "stdout",
          "text": [
            "Epoch 1/150\n",
            "138/138 [==============================] - 3s 15ms/step - loss: 0.9065 - accuracy: 0.6568 - val_loss: 0.7903 - val_accuracy: 0.7471\n",
            "Epoch 2/150\n",
            "138/138 [==============================] - 2s 12ms/step - loss: 0.6696 - accuracy: 0.7701 - val_loss: 0.6231 - val_accuracy: 0.7616\n",
            "Epoch 3/150\n",
            "138/138 [==============================] - 2s 11ms/step - loss: 0.5735 - accuracy: 0.7883 - val_loss: 0.5609 - val_accuracy: 0.7851\n",
            "Epoch 4/150\n",
            "138/138 [==============================] - 2s 13ms/step - loss: 0.5168 - accuracy: 0.8132 - val_loss: 0.5191 - val_accuracy: 0.8123\n",
            "Epoch 5/150\n",
            "138/138 [==============================] - 2s 11ms/step - loss: 0.4749 - accuracy: 0.8311 - val_loss: 0.4771 - val_accuracy: 0.8450\n",
            "Epoch 6/150\n",
            "138/138 [==============================] - 2s 11ms/step - loss: 0.4446 - accuracy: 0.8411 - val_loss: 0.4924 - val_accuracy: 0.8341\n",
            "Epoch 7/150\n",
            "138/138 [==============================] - 2s 12ms/step - loss: 0.4052 - accuracy: 0.8560 - val_loss: 0.4448 - val_accuracy: 0.8422\n",
            "Epoch 8/150\n",
            "138/138 [==============================] - 2s 12ms/step - loss: 0.3948 - accuracy: 0.8583 - val_loss: 0.4056 - val_accuracy: 0.8622\n",
            "Epoch 9/150\n",
            "138/138 [==============================] - 2s 12ms/step - loss: 0.3774 - accuracy: 0.8658 - val_loss: 0.4093 - val_accuracy: 0.8558\n",
            "Epoch 10/150\n",
            "138/138 [==============================] - 2s 13ms/step - loss: 0.3725 - accuracy: 0.8690 - val_loss: 0.4143 - val_accuracy: 0.8604\n",
            "Epoch 11/150\n",
            "138/138 [==============================] - 2s 12ms/step - loss: 0.3684 - accuracy: 0.8708 - val_loss: 0.3969 - val_accuracy: 0.8504\n",
            "Epoch 12/150\n",
            "138/138 [==============================] - 2s 13ms/step - loss: 0.3433 - accuracy: 0.8774 - val_loss: 0.3794 - val_accuracy: 0.8640\n",
            "Epoch 13/150\n",
            "138/138 [==============================] - 2s 12ms/step - loss: 0.3484 - accuracy: 0.8715 - val_loss: 0.3721 - val_accuracy: 0.8694\n",
            "Epoch 14/150\n",
            "138/138 [==============================] - 2s 12ms/step - loss: 0.3313 - accuracy: 0.8780 - val_loss: 0.3606 - val_accuracy: 0.8676\n",
            "Epoch 15/150\n",
            "138/138 [==============================] - 2s 12ms/step - loss: 0.3279 - accuracy: 0.8794 - val_loss: 0.3648 - val_accuracy: 0.8676\n",
            "Epoch 16/150\n",
            "138/138 [==============================] - 2s 13ms/step - loss: 0.3191 - accuracy: 0.8814 - val_loss: 0.3562 - val_accuracy: 0.8785\n",
            "Epoch 17/150\n",
            "138/138 [==============================] - 2s 13ms/step - loss: 0.3069 - accuracy: 0.8869 - val_loss: 0.3401 - val_accuracy: 0.8758\n",
            "Epoch 18/150\n",
            "138/138 [==============================] - 2s 12ms/step - loss: 0.3062 - accuracy: 0.8842 - val_loss: 0.3503 - val_accuracy: 0.8858\n",
            "Epoch 19/150\n",
            "138/138 [==============================] - 2s 12ms/step - loss: 0.2986 - accuracy: 0.8882 - val_loss: 0.3331 - val_accuracy: 0.8785\n",
            "Epoch 20/150\n",
            "138/138 [==============================] - 2s 12ms/step - loss: 0.3146 - accuracy: 0.8821 - val_loss: 0.3397 - val_accuracy: 0.8776\n",
            "Epoch 21/150\n",
            "138/138 [==============================] - 2s 12ms/step - loss: 0.2905 - accuracy: 0.8905 - val_loss: 0.3365 - val_accuracy: 0.8794\n",
            "Epoch 22/150\n",
            "138/138 [==============================] - 2s 12ms/step - loss: 0.2754 - accuracy: 0.8993 - val_loss: 0.3232 - val_accuracy: 0.8876\n",
            "Epoch 23/150\n",
            "138/138 [==============================] - 2s 13ms/step - loss: 0.2745 - accuracy: 0.8953 - val_loss: 0.3247 - val_accuracy: 0.8985\n",
            "Epoch 24/150\n",
            "138/138 [==============================] - 2s 12ms/step - loss: 0.2652 - accuracy: 0.9030 - val_loss: 0.3022 - val_accuracy: 0.8930\n",
            "Epoch 25/150\n",
            "138/138 [==============================] - 2s 12ms/step - loss: 0.2658 - accuracy: 0.8987 - val_loss: 0.3051 - val_accuracy: 0.8985\n",
            "Epoch 26/150\n",
            "138/138 [==============================] - 2s 12ms/step - loss: 0.2678 - accuracy: 0.9000 - val_loss: 0.3304 - val_accuracy: 0.8740\n",
            "Epoch 27/150\n",
            "138/138 [==============================] - 2s 12ms/step - loss: 0.2562 - accuracy: 0.9034 - val_loss: 0.2986 - val_accuracy: 0.9075\n",
            "Epoch 28/150\n",
            "138/138 [==============================] - 2s 12ms/step - loss: 0.2509 - accuracy: 0.9068 - val_loss: 0.3095 - val_accuracy: 0.8939\n",
            "Epoch 29/150\n",
            "138/138 [==============================] - 2s 12ms/step - loss: 0.2529 - accuracy: 0.9021 - val_loss: 0.2902 - val_accuracy: 0.9039\n",
            "Epoch 30/150\n",
            "138/138 [==============================] - 2s 12ms/step - loss: 0.2346 - accuracy: 0.9098 - val_loss: 0.3116 - val_accuracy: 0.8976\n",
            "Epoch 31/150\n",
            "138/138 [==============================] - 2s 12ms/step - loss: 0.2354 - accuracy: 0.9107 - val_loss: 0.2918 - val_accuracy: 0.9048\n",
            "Epoch 32/150\n",
            "138/138 [==============================] - 2s 11ms/step - loss: 0.2302 - accuracy: 0.9170 - val_loss: 0.2878 - val_accuracy: 0.9084\n",
            "Epoch 33/150\n",
            "138/138 [==============================] - 2s 12ms/step - loss: 0.2182 - accuracy: 0.9238 - val_loss: 0.2810 - val_accuracy: 0.9066\n",
            "Epoch 34/150\n",
            "138/138 [==============================] - 2s 11ms/step - loss: 0.2227 - accuracy: 0.9136 - val_loss: 0.3123 - val_accuracy: 0.8976\n",
            "Epoch 35/150\n",
            "138/138 [==============================] - 2s 12ms/step - loss: 0.2130 - accuracy: 0.9218 - val_loss: 0.2986 - val_accuracy: 0.8994\n",
            "Epoch 36/150\n",
            "138/138 [==============================] - 2s 12ms/step - loss: 0.2224 - accuracy: 0.9209 - val_loss: 0.3432 - val_accuracy: 0.8912\n",
            "Epoch 37/150\n",
            "138/138 [==============================] - 2s 12ms/step - loss: 0.2078 - accuracy: 0.9243 - val_loss: 0.2734 - val_accuracy: 0.9112\n",
            "Epoch 38/150\n",
            "138/138 [==============================] - 2s 11ms/step - loss: 0.2015 - accuracy: 0.9261 - val_loss: 0.3191 - val_accuracy: 0.9012\n",
            "Epoch 39/150\n",
            "138/138 [==============================] - 2s 13ms/step - loss: 0.2155 - accuracy: 0.9186 - val_loss: 0.2937 - val_accuracy: 0.9130\n",
            "Epoch 40/150\n",
            "138/138 [==============================] - 2s 12ms/step - loss: 0.2003 - accuracy: 0.9272 - val_loss: 0.2835 - val_accuracy: 0.9184\n",
            "Epoch 41/150\n",
            "138/138 [==============================] - 2s 13ms/step - loss: 0.1911 - accuracy: 0.9304 - val_loss: 0.3138 - val_accuracy: 0.9248\n",
            "Epoch 42/150\n",
            "138/138 [==============================] - 2s 13ms/step - loss: 0.1836 - accuracy: 0.9331 - val_loss: 0.2872 - val_accuracy: 0.9184\n",
            "Epoch 43/150\n",
            "138/138 [==============================] - 2s 12ms/step - loss: 0.1884 - accuracy: 0.9324 - val_loss: 0.2813 - val_accuracy: 0.9112\n",
            "Epoch 44/150\n",
            "138/138 [==============================] - 2s 13ms/step - loss: 0.1812 - accuracy: 0.9313 - val_loss: 0.2655 - val_accuracy: 0.9157\n",
            "Epoch 45/150\n",
            "138/138 [==============================] - 2s 12ms/step - loss: 0.1951 - accuracy: 0.9329 - val_loss: 0.2853 - val_accuracy: 0.9202\n",
            "Epoch 46/150\n",
            "138/138 [==============================] - 2s 13ms/step - loss: 0.1741 - accuracy: 0.9399 - val_loss: 0.2633 - val_accuracy: 0.9257\n",
            "Epoch 47/150\n",
            "138/138 [==============================] - 2s 12ms/step - loss: 0.1687 - accuracy: 0.9338 - val_loss: 0.2625 - val_accuracy: 0.9220\n",
            "Epoch 48/150\n",
            "138/138 [==============================] - 2s 12ms/step - loss: 0.1614 - accuracy: 0.9390 - val_loss: 0.3163 - val_accuracy: 0.9148\n",
            "Epoch 49/150\n",
            "138/138 [==============================] - 2s 13ms/step - loss: 0.1683 - accuracy: 0.9431 - val_loss: 0.2738 - val_accuracy: 0.9184\n",
            "Epoch 50/150\n",
            "138/138 [==============================] - 2s 12ms/step - loss: 0.1569 - accuracy: 0.9424 - val_loss: 0.3002 - val_accuracy: 0.9275\n",
            "Epoch 51/150\n",
            "138/138 [==============================] - 2s 12ms/step - loss: 0.1630 - accuracy: 0.9422 - val_loss: 0.2830 - val_accuracy: 0.9257\n",
            "Epoch 52/150\n",
            "138/138 [==============================] - 2s 13ms/step - loss: 0.1461 - accuracy: 0.9467 - val_loss: 0.2827 - val_accuracy: 0.9248\n",
            "Epoch 53/150\n",
            "138/138 [==============================] - 2s 12ms/step - loss: 0.1578 - accuracy: 0.9445 - val_loss: 0.2764 - val_accuracy: 0.9302\n",
            "Epoch 54/150\n",
            "138/138 [==============================] - 2s 12ms/step - loss: 0.1531 - accuracy: 0.9451 - val_loss: 0.2875 - val_accuracy: 0.9266\n",
            "Epoch 55/150\n",
            "138/138 [==============================] - 2s 13ms/step - loss: 0.1449 - accuracy: 0.9481 - val_loss: 0.2688 - val_accuracy: 0.9275\n",
            "Epoch 56/150\n",
            "138/138 [==============================] - 2s 12ms/step - loss: 0.1423 - accuracy: 0.9497 - val_loss: 0.2900 - val_accuracy: 0.9248\n",
            "Epoch 57/150\n",
            "138/138 [==============================] - 2s 12ms/step - loss: 0.1390 - accuracy: 0.9524 - val_loss: 0.2743 - val_accuracy: 0.9248\n"
          ]
        }
      ],
      "source": [
        "history_offset = model_offsets.fit(X_train_off,y_train_off,epochs=150, validation_split = 0.2,callbacks = my_callbacks)"
      ]
    },
    {
      "cell_type": "code",
      "source": [
        "history_duration = model_durations.fit(X_train_dur,y_train_dur,epochs=150, validation_split = 0.2,callbacks = my_callbacks)"
      ],
      "metadata": {
        "id": "6RMQVDFH7wsb",
        "outputId": "5f1975d3-bb60-42c3-ea0d-cc0791909698",
        "colab": {
          "base_uri": "https://localhost:8080/"
        }
      },
      "execution_count": 108,
      "outputs": [
        {
          "output_type": "stream",
          "name": "stdout",
          "text": [
            "Epoch 1/150\n",
            "138/138 [==============================] - 3s 15ms/step - loss: 0.8481 - accuracy: 0.8105 - val_loss: 0.6713 - val_accuracy: 0.8477\n",
            "Epoch 2/150\n",
            "138/138 [==============================] - 2s 12ms/step - loss: 0.7153 - accuracy: 0.8218 - val_loss: 0.5825 - val_accuracy: 0.8513\n",
            "Epoch 3/150\n",
            "138/138 [==============================] - 2s 12ms/step - loss: 0.6911 - accuracy: 0.8241 - val_loss: 0.5756 - val_accuracy: 0.8495\n",
            "Epoch 4/150\n",
            "138/138 [==============================] - 2s 12ms/step - loss: 0.6725 - accuracy: 0.8223 - val_loss: 0.5556 - val_accuracy: 0.8495\n",
            "Epoch 5/150\n",
            "138/138 [==============================] - 2s 12ms/step - loss: 0.6617 - accuracy: 0.8261 - val_loss: 0.5630 - val_accuracy: 0.8531\n",
            "Epoch 6/150\n",
            "138/138 [==============================] - 2s 12ms/step - loss: 0.6530 - accuracy: 0.8227 - val_loss: 0.5556 - val_accuracy: 0.8513\n",
            "Epoch 7/150\n",
            "138/138 [==============================] - 2s 12ms/step - loss: 0.6312 - accuracy: 0.8295 - val_loss: 0.5540 - val_accuracy: 0.8604\n",
            "Epoch 8/150\n",
            "138/138 [==============================] - 2s 12ms/step - loss: 0.6233 - accuracy: 0.8279 - val_loss: 0.5584 - val_accuracy: 0.8486\n",
            "Epoch 9/150\n",
            "138/138 [==============================] - 2s 12ms/step - loss: 0.6092 - accuracy: 0.8311 - val_loss: 0.5272 - val_accuracy: 0.8595\n",
            "Epoch 10/150\n",
            "138/138 [==============================] - 2s 13ms/step - loss: 0.5969 - accuracy: 0.8386 - val_loss: 0.5138 - val_accuracy: 0.8604\n",
            "Epoch 11/150\n",
            "138/138 [==============================] - 2s 13ms/step - loss: 0.5762 - accuracy: 0.8402 - val_loss: 0.4974 - val_accuracy: 0.8640\n",
            "Epoch 12/150\n",
            "138/138 [==============================] - 2s 12ms/step - loss: 0.5569 - accuracy: 0.8390 - val_loss: 0.4914 - val_accuracy: 0.8568\n",
            "Epoch 13/150\n",
            "138/138 [==============================] - 2s 12ms/step - loss: 0.5256 - accuracy: 0.8517 - val_loss: 0.4503 - val_accuracy: 0.8667\n",
            "Epoch 14/150\n",
            "138/138 [==============================] - 2s 12ms/step - loss: 0.4989 - accuracy: 0.8588 - val_loss: 0.4647 - val_accuracy: 0.8785\n",
            "Epoch 15/150\n",
            "138/138 [==============================] - 2s 12ms/step - loss: 0.4844 - accuracy: 0.8583 - val_loss: 0.4302 - val_accuracy: 0.8749\n",
            "Epoch 16/150\n",
            "138/138 [==============================] - 2s 12ms/step - loss: 0.4802 - accuracy: 0.8622 - val_loss: 0.4211 - val_accuracy: 0.8830\n",
            "Epoch 17/150\n",
            "138/138 [==============================] - 2s 12ms/step - loss: 0.4617 - accuracy: 0.8628 - val_loss: 0.4271 - val_accuracy: 0.8767\n",
            "Epoch 18/150\n",
            "138/138 [==============================] - 2s 13ms/step - loss: 0.4472 - accuracy: 0.8687 - val_loss: 0.3932 - val_accuracy: 0.8840\n",
            "Epoch 19/150\n",
            "138/138 [==============================] - 2s 12ms/step - loss: 0.4446 - accuracy: 0.8696 - val_loss: 0.3895 - val_accuracy: 0.8876\n",
            "Epoch 20/150\n",
            "138/138 [==============================] - 2s 12ms/step - loss: 0.4143 - accuracy: 0.8796 - val_loss: 0.3745 - val_accuracy: 0.8985\n",
            "Epoch 21/150\n",
            "138/138 [==============================] - 2s 12ms/step - loss: 0.4122 - accuracy: 0.8812 - val_loss: 0.3705 - val_accuracy: 0.8994\n",
            "Epoch 22/150\n",
            "138/138 [==============================] - 2s 13ms/step - loss: 0.3861 - accuracy: 0.8876 - val_loss: 0.3433 - val_accuracy: 0.9048\n",
            "Epoch 23/150\n",
            "138/138 [==============================] - 2s 12ms/step - loss: 0.3715 - accuracy: 0.8907 - val_loss: 0.3317 - val_accuracy: 0.8994\n",
            "Epoch 24/150\n",
            "138/138 [==============================] - 2s 12ms/step - loss: 0.3582 - accuracy: 0.8971 - val_loss: 0.3379 - val_accuracy: 0.9057\n",
            "Epoch 25/150\n",
            "138/138 [==============================] - 2s 12ms/step - loss: 0.3554 - accuracy: 0.9009 - val_loss: 0.3290 - val_accuracy: 0.8985\n",
            "Epoch 26/150\n",
            "138/138 [==============================] - 2s 12ms/step - loss: 0.3449 - accuracy: 0.8953 - val_loss: 0.3295 - val_accuracy: 0.9039\n",
            "Epoch 27/150\n",
            "138/138 [==============================] - 2s 12ms/step - loss: 0.3422 - accuracy: 0.9007 - val_loss: 0.3483 - val_accuracy: 0.9075\n",
            "Epoch 28/150\n",
            "138/138 [==============================] - 2s 12ms/step - loss: 0.3286 - accuracy: 0.9036 - val_loss: 0.3271 - val_accuracy: 0.9121\n",
            "Epoch 29/150\n",
            "138/138 [==============================] - 2s 12ms/step - loss: 0.3142 - accuracy: 0.9061 - val_loss: 0.2935 - val_accuracy: 0.9121\n",
            "Epoch 30/150\n",
            "138/138 [==============================] - 2s 13ms/step - loss: 0.3123 - accuracy: 0.9118 - val_loss: 0.2818 - val_accuracy: 0.9166\n",
            "Epoch 31/150\n",
            "138/138 [==============================] - 2s 12ms/step - loss: 0.2972 - accuracy: 0.9139 - val_loss: 0.2627 - val_accuracy: 0.9275\n",
            "Epoch 32/150\n",
            "138/138 [==============================] - 2s 12ms/step - loss: 0.2779 - accuracy: 0.9173 - val_loss: 0.2754 - val_accuracy: 0.9248\n",
            "Epoch 33/150\n",
            "138/138 [==============================] - 2s 13ms/step - loss: 0.2676 - accuracy: 0.9229 - val_loss: 0.2811 - val_accuracy: 0.9211\n",
            "Epoch 34/150\n",
            "138/138 [==============================] - 2s 12ms/step - loss: 0.2939 - accuracy: 0.9145 - val_loss: 0.2829 - val_accuracy: 0.9157\n",
            "Epoch 35/150\n",
            "138/138 [==============================] - 2s 12ms/step - loss: 0.2711 - accuracy: 0.9222 - val_loss: 0.2816 - val_accuracy: 0.9220\n",
            "Epoch 36/150\n",
            "138/138 [==============================] - 2s 13ms/step - loss: 0.2490 - accuracy: 0.9297 - val_loss: 0.2480 - val_accuracy: 0.9266\n",
            "Epoch 37/150\n",
            "138/138 [==============================] - 2s 12ms/step - loss: 0.2358 - accuracy: 0.9302 - val_loss: 0.2594 - val_accuracy: 0.9284\n",
            "Epoch 38/150\n",
            "138/138 [==============================] - 2s 12ms/step - loss: 0.2355 - accuracy: 0.9290 - val_loss: 0.2553 - val_accuracy: 0.9293\n",
            "Epoch 39/150\n",
            "138/138 [==============================] - 2s 13ms/step - loss: 0.2335 - accuracy: 0.9261 - val_loss: 0.2705 - val_accuracy: 0.9248\n",
            "Epoch 40/150\n",
            "138/138 [==============================] - 2s 12ms/step - loss: 0.2189 - accuracy: 0.9333 - val_loss: 0.2590 - val_accuracy: 0.9257\n",
            "Epoch 41/150\n",
            "138/138 [==============================] - 2s 12ms/step - loss: 0.2154 - accuracy: 0.9365 - val_loss: 0.2545 - val_accuracy: 0.9266\n",
            "Epoch 42/150\n",
            "138/138 [==============================] - 2s 12ms/step - loss: 0.2081 - accuracy: 0.9377 - val_loss: 0.2450 - val_accuracy: 0.9257\n",
            "Epoch 43/150\n",
            "138/138 [==============================] - 2s 12ms/step - loss: 0.2107 - accuracy: 0.9372 - val_loss: 0.2221 - val_accuracy: 0.9293\n",
            "Epoch 44/150\n",
            "138/138 [==============================] - 2s 12ms/step - loss: 0.1952 - accuracy: 0.9420 - val_loss: 0.2440 - val_accuracy: 0.9329\n",
            "Epoch 45/150\n",
            "138/138 [==============================] - 2s 12ms/step - loss: 0.1988 - accuracy: 0.9420 - val_loss: 0.2203 - val_accuracy: 0.9365\n",
            "Epoch 46/150\n",
            "138/138 [==============================] - 2s 12ms/step - loss: 0.1751 - accuracy: 0.9451 - val_loss: 0.2320 - val_accuracy: 0.9320\n",
            "Epoch 47/150\n",
            "138/138 [==============================] - 2s 13ms/step - loss: 0.1784 - accuracy: 0.9474 - val_loss: 0.2160 - val_accuracy: 0.9356\n",
            "Epoch 48/150\n",
            "138/138 [==============================] - 2s 12ms/step - loss: 0.1807 - accuracy: 0.9472 - val_loss: 0.2156 - val_accuracy: 0.9383\n",
            "Epoch 49/150\n",
            "138/138 [==============================] - 2s 12ms/step - loss: 0.1729 - accuracy: 0.9531 - val_loss: 0.2271 - val_accuracy: 0.9402\n",
            "Epoch 50/150\n",
            "138/138 [==============================] - 2s 12ms/step - loss: 0.1740 - accuracy: 0.9481 - val_loss: 0.2157 - val_accuracy: 0.9365\n",
            "Epoch 51/150\n",
            "138/138 [==============================] - 2s 12ms/step - loss: 0.1774 - accuracy: 0.9451 - val_loss: 0.2131 - val_accuracy: 0.9383\n",
            "Epoch 52/150\n",
            "138/138 [==============================] - 2s 12ms/step - loss: 0.1547 - accuracy: 0.9574 - val_loss: 0.2616 - val_accuracy: 0.9402\n",
            "Epoch 53/150\n",
            "138/138 [==============================] - 2s 13ms/step - loss: 0.1696 - accuracy: 0.9517 - val_loss: 0.2464 - val_accuracy: 0.9338\n",
            "Epoch 54/150\n",
            "138/138 [==============================] - 2s 12ms/step - loss: 0.1666 - accuracy: 0.9531 - val_loss: 0.2001 - val_accuracy: 0.9356\n",
            "Epoch 55/150\n",
            "138/138 [==============================] - 2s 12ms/step - loss: 0.1575 - accuracy: 0.9533 - val_loss: 0.2680 - val_accuracy: 0.9402\n",
            "Epoch 56/150\n",
            "138/138 [==============================] - 2s 12ms/step - loss: 0.1426 - accuracy: 0.9558 - val_loss: 0.2231 - val_accuracy: 0.9456\n",
            "Epoch 57/150\n",
            "138/138 [==============================] - 2s 12ms/step - loss: 0.1430 - accuracy: 0.9585 - val_loss: 0.1993 - val_accuracy: 0.9483\n",
            "Epoch 58/150\n",
            "138/138 [==============================] - 2s 12ms/step - loss: 0.1337 - accuracy: 0.9615 - val_loss: 0.2189 - val_accuracy: 0.9393\n",
            "Epoch 59/150\n",
            "138/138 [==============================] - 2s 12ms/step - loss: 0.1458 - accuracy: 0.9576 - val_loss: 0.2301 - val_accuracy: 0.9402\n",
            "Epoch 60/150\n",
            "138/138 [==============================] - 2s 12ms/step - loss: 0.1450 - accuracy: 0.9587 - val_loss: 0.2457 - val_accuracy: 0.9383\n",
            "Epoch 61/150\n",
            "138/138 [==============================] - 2s 12ms/step - loss: 0.1494 - accuracy: 0.9581 - val_loss: 0.2152 - val_accuracy: 0.9429\n",
            "Epoch 62/150\n",
            "138/138 [==============================] - 2s 12ms/step - loss: 0.1333 - accuracy: 0.9594 - val_loss: 0.1921 - val_accuracy: 0.9420\n",
            "Epoch 63/150\n",
            "138/138 [==============================] - 2s 12ms/step - loss: 0.1213 - accuracy: 0.9655 - val_loss: 0.2048 - val_accuracy: 0.9447\n",
            "Epoch 64/150\n",
            "138/138 [==============================] - 2s 13ms/step - loss: 0.1181 - accuracy: 0.9655 - val_loss: 0.2049 - val_accuracy: 0.9492\n",
            "Epoch 65/150\n",
            "138/138 [==============================] - 2s 12ms/step - loss: 0.1292 - accuracy: 0.9628 - val_loss: 0.2303 - val_accuracy: 0.9447\n",
            "Epoch 66/150\n",
            "138/138 [==============================] - 2s 13ms/step - loss: 0.1270 - accuracy: 0.9640 - val_loss: 0.2101 - val_accuracy: 0.9483\n",
            "Epoch 67/150\n",
            "138/138 [==============================] - 2s 13ms/step - loss: 0.1250 - accuracy: 0.9651 - val_loss: 0.2367 - val_accuracy: 0.9402\n",
            "Epoch 68/150\n",
            "138/138 [==============================] - 2s 13ms/step - loss: 0.1176 - accuracy: 0.9655 - val_loss: 0.2352 - val_accuracy: 0.9510\n",
            "Epoch 69/150\n",
            "138/138 [==============================] - 2s 13ms/step - loss: 0.1237 - accuracy: 0.9612 - val_loss: 0.2052 - val_accuracy: 0.9492\n",
            "Epoch 70/150\n",
            "138/138 [==============================] - 2s 12ms/step - loss: 0.1108 - accuracy: 0.9676 - val_loss: 0.2391 - val_accuracy: 0.9447\n",
            "Epoch 71/150\n",
            "138/138 [==============================] - 2s 12ms/step - loss: 0.1144 - accuracy: 0.9676 - val_loss: 0.2239 - val_accuracy: 0.9447\n",
            "Epoch 72/150\n",
            "138/138 [==============================] - 2s 12ms/step - loss: 0.1076 - accuracy: 0.9687 - val_loss: 0.1949 - val_accuracy: 0.9501\n"
          ]
        }
      ]
    },
    {
      "cell_type": "code",
      "source": [
        "def sample(preds, temperature=1.0):\n",
        "    \"\"\"Helper function to sample an index from a probability array.\"\"\"\n",
        "    preds = np.asarray(preds).astype('float64')\n",
        "    preds = np.exp(np.log(preds) / temperature)  \n",
        "    preds = preds / np.sum(preds)                \n",
        "    probas = np.random.multinomial(1, preds, 1)  \n",
        "    return np.argmax(probas)                     "
      ],
      "metadata": {
        "id": "is75YDQUyDxj"
      },
      "execution_count": 111,
      "outputs": []
    },
    {
      "cell_type": "code",
      "execution_count": 126,
      "metadata": {
        "id": "zjWjzlEXui7-"
      },
      "outputs": [],
      "source": [
        "def music_maker(seed_vec, model_type, number_unique, unique, diversity, num_notes = 64):\n",
        "  music = []\n",
        "  arr = np.zeros((len(seed_vec)+num_notes,number_unique))\n",
        "  for c,i in enumerate(seed_vec):\n",
        "    arr[c] = i\n",
        "\n",
        "  for i in range(0,num_notes,1):\n",
        "    d_arr = np.zeros(number_unique)\n",
        "    pred = model_type.predict(np.reshape(arr[i:len(arr)-num_notes+i], (1, len(arr[i:len(arr)-num_notes+i]),number_unique)),verbose = 0)[0]\n",
        "    diverse = sample(pred, diversity)\n",
        "    d_arr[diverse] = 1\n",
        "    music.append(one_hot_decode(d_arr,all_values = unique)[0])\n",
        "\n",
        "    arr[len(seed_vec)+i] = d_arr\n",
        "  \n",
        "  return music"
      ]
    },
    {
      "cell_type": "code",
      "execution_count": 145,
      "metadata": {
        "id": "EfvuENYGWFkf"
      },
      "outputs": [],
      "source": [
        "import random\n",
        "randnum = random.randrange(0,len(X_test_note))\n",
        "test_note = X_test_note[randnum]\n",
        "test_offset = X_test_off[randnum]\n",
        "test_dur = X_test_dur[randnum]\n",
        "generated_music_note = music_maker(test_note, model_notes, unique_note_number, unique_notes, 0.7)\n",
        "generated_music_offset = music_maker(test_offset,model_offsets,unique_offset_number, unique_offsets, 0.7)\n",
        "generated_music_duration = music_maker(test_dur, model_durations, unique_duration_number, unique_durations, 0.2)\n"
      ]
    },
    {
      "cell_type": "code",
      "source": [
        "seed_notes = []\n",
        "seed_offsets = []\n",
        "seed_durations = []\n",
        "for n in test_note:\n",
        "  seed_notes.append(one_hot_decode(n ,unique_notes)[0]) \n",
        "for o in test_offset:\n",
        "  seed_offsets.append(one_hot_decode(o ,unique_offsets)[0]) \n",
        "for d in test_dur:\n",
        "  seed_durations.append(one_hot_decode(d, unique_durations)[0])"
      ],
      "metadata": {
        "id": "Xv54x8ozxBBH"
      },
      "execution_count": 146,
      "outputs": []
    },
    {
      "cell_type": "code",
      "execution_count": 147,
      "metadata": {
        "colab": {
          "base_uri": "https://localhost:8080/",
          "height": 35
        },
        "id": "qqCfHbIPxpPr",
        "outputId": "caa67ac8-7eb1-4be9-bc89-f0aaaffd9674"
      },
      "outputs": [
        {
          "output_type": "execute_result",
          "data": {
            "text/plain": [
              "'seed_classical.mid'"
            ],
            "application/vnd.google.colaboratory.intrinsic+json": {
              "type": "string"
            }
          },
          "metadata": {},
          "execution_count": 147
        }
      ],
      "source": [
        "to_midi(generated_music_note,generated_music_offset, generated_music_duration).write('midi', \"generated_classical.mid\")\n",
        "to_midi(seed_notes,seed_offsets,seed_durations).write('midi', \"seed_classical.mid\")\n"
      ]
    },
    {
      "cell_type": "code",
      "source": [],
      "metadata": {
        "id": "ab-fBMtwswzI"
      },
      "execution_count": null,
      "outputs": []
    }
  ],
  "metadata": {
    "accelerator": "GPU",
    "colab": {
      "machine_shape": "hm",
      "provenance": []
    },
    "gpuClass": "premium",
    "kernelspec": {
      "display_name": "Python 3",
      "name": "python3"
    },
    "language_info": {
      "name": "python"
    }
  },
  "nbformat": 4,
  "nbformat_minor": 0
}
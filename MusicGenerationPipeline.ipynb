{
  "cells": [
    {
      "cell_type": "code",
      "execution_count": null,
      "metadata": {
        "colab": {
          "base_uri": "https://localhost:8080/"
        },
        "id": "JiAHuMXqtg9k",
        "outputId": "59267412-7668-4898-b330-ec60c892f58d"
      },
      "outputs": [
        {
          "output_type": "stream",
          "name": "stdout",
          "text": [
            "Mounted at /content/drive\n"
          ]
        }
      ],
      "source": [
        "from google.colab import drive\n",
        "drive.mount('/content/drive')"
      ]
    },
    {
      "cell_type": "code",
      "execution_count": null,
      "metadata": {
        "id": "aPMvatbQ7_C4"
      },
      "outputs": [],
      "source": [
        "#import statements\n",
        "import pandas as pd\n",
        "import tensorflow as tf\n",
        "import matplotlib.pyplot as plt\n",
        "from music21 import converter, instrument, note, chord, stream, duration\n",
        "import glob\n",
        "import os\n",
        "from itertools import chain\n",
        "import copy\n",
        "import numpy as np\n",
        "from tensorflow.keras.callbacks import LambdaCallback\n",
        "from tensorflow.keras.models import Sequential\n",
        "from tensorflow.keras.layers import Dense, LSTM, Dropout\n",
        "from keras.layers import CuDNNLSTM,Bidirectional\n",
        "from tensorflow.keras.optimizers import Adam\n",
        "from tensorflow.keras import layers\n",
        "from sklearn.model_selection import train_test_split\n",
        "from numpy import argmax\n",
        "import gc"
      ]
    },
    {
      "cell_type": "code",
      "execution_count": null,
      "metadata": {
        "id": "2RBI4UDFDr6A"
      },
      "outputs": [],
      "source": [
        "def data_extractor(directory):\n",
        "  \"\"\"\n",
        "    Summary:\n",
        "    Function converts midi files to metadata and appends nested metadata lists into one large list\n",
        "    composed of all the songs in the dataset.\n",
        "\n",
        "    Parameters:\n",
        "    directory: String representation of directroy where midi files are located\n",
        "\n",
        "    Returns:\n",
        "    list: sequential midi file metadata \n",
        "   \"\"\"\n",
        "  notes = []\n",
        "  offsets = []\n",
        "  for file in glob.glob(directory):\n",
        "          mid = converter.parse(file)\n",
        "          notes_to_parse = None\n",
        "          prev_offset = 0\n",
        "          \n",
        "          try: \n",
        "              s2 = instrument.partitionByInstrument(mid)\n",
        "              notes_to_parse = s2.parts[0].recurse() \n",
        "              \n",
        "          except: \n",
        "              notes_to_parse = mid.flat.notes\n",
        "\n",
        "          for i,element in enumerate(notes_to_parse):\n",
        "              if isinstance(element, note.Note):\n",
        "                  notes.append(str(element.pitch))\n",
        "                  offset_dif = float(element.offset-prev_offset)\n",
        "              \n",
        "                  offsets.append(round(offset_dif,3))\n",
        "                  prev_offset = element.offset\n",
        "             \n",
        "                 \n",
        "              elif isinstance(element, chord.Chord):\n",
        "                  notes.append('.'.join(str(n) for n in element.normalOrder))\n",
        "                  offset_dif = float(element.offset-prev_offset)\n",
        "                  \n",
        "                  offsets.append(round(offset_dif,3))\n",
        "                  prev_offset = element.offset\n",
        "\n",
        "  return [notes,offsets]"
      ]
    },
    {
      "cell_type": "code",
      "execution_count": null,
      "metadata": {
        "id": "uM7ofNWWbp4Q"
      },
      "outputs": [],
      "source": [
        "data = data_extractor(\"/content/drive/MyDrive/midi_files/*.mid\")\n",
        "note_data = data[0]\n",
        "offset_data = data[1]\n",
        "\n",
        "unique_note_number = len(list(set(note_data)))\n",
        "unique_notes = sorted(list(set(note_data)))\n",
        "unique_offset_number = len(list(set(offset_data)))\n",
        "unique_offsets = sorted(list(set(offset_data)))"
      ]
    },
    {
      "cell_type": "code",
      "source": [
        "def test_data_pipeline():\n",
        "  data = data_extractor(\"/content/drive/MyDrive/midi_short/*.mid\")\n",
        "  seg = make_segments(data_array = offset_data, unique_values = unique_offsets,segment_type = 'offset')\n",
        "  \n",
        "  check_list = []\n",
        "  for i in seg[0][1]:\n",
        "    check_list.append(one_hot_decode(i,unique_offsets)[0])\n",
        "\n",
        "  if check_list == offset_data[1:len(seg[0][1])+1]:\n",
        "\n",
        "    print('pipeline working')\n",
        "  else:\n",
        "    print('pipeline not working')\n",
        "test_data_pipeline()"
      ],
      "metadata": {
        "id": "G78xJ_cK4s12"
      },
      "execution_count": null,
      "outputs": []
    },
    {
      "cell_type": "code",
      "execution_count": null,
      "metadata": {
        "id": "d9-bc5MNv076"
      },
      "outputs": [],
      "source": [
        "def to_midi(notes,offsets):\n",
        "  \"\"\"\n",
        "  Summary:\n",
        "  Takes midi metadata and converts it to a Music21 stream. The stream can then easily be converted into a midi file.\n",
        "\n",
        "  Parameters:\n",
        "  metadata: midi metadata (notes,chords,offsets)\n",
        "\n",
        "  Returns:\n",
        "  list: Music21 stream object\n",
        "  \"\"\"\n",
        "  offset = offsets[0]\n",
        "  s = stream.Stream()\n",
        "  for i,ele in enumerate(notes):\n",
        "    if ele[0].isalpha():\n",
        "      n = note.Note(ele)\n",
        "      s.insert(offset,n)\n",
        "      offset += offsets[i]\n",
        "    else:\n",
        "      chords = list(map(int,ele.split('.')))\n",
        "      c = chord.Chord(chords)\n",
        "      s.insert(offset,c)\n",
        "      offset += offsets[i]\n",
        "  return s"
      ]
    },
    {
      "cell_type": "code",
      "execution_count": null,
      "metadata": {
        "id": "FcFLfinnvOHJ"
      },
      "outputs": [],
      "source": [
        "def one_hot_encode(vector, all_values):\n",
        "  encoded_vectors = []\n",
        "  int_to_index = dict((c, i) for i, c in enumerate(all_values))\n",
        "  for i in vector:\n",
        "    zero = [0]*(len(all_values)-1)\n",
        "    zero.insert(int_to_index[i],1)\n",
        "    encoded_vectors.append(zero)\n",
        "  \n",
        "  return encoded_vectors"
      ]
    },
    {
      "cell_type": "code",
      "execution_count": null,
      "metadata": {
        "id": "xuDs9q4Ftunv"
      },
      "outputs": [],
      "source": [
        "from numpy import argmax\n",
        "def one_hot_decode(vector,all_values):\n",
        "  decoded_vector = []\n",
        "  index_to_int = dict((i, c) for i, c in enumerate(all_values))\n",
        "  decoded_vector.append(index_to_int[argmax(vector)])\n",
        "  return decoded_vector"
      ]
    },
    {
      "cell_type": "code",
      "execution_count": null,
      "metadata": {
        "id": "vvLcXr-7vr0j"
      },
      "outputs": [],
      "source": [
        "import keras.utils\n",
        "segment_length = 75\n",
        "def make_segments(data_array,unique_values, seq_length = segment_length,segment_type = 'note'):\n",
        "  input_seq = []\n",
        "  output_seq = []\n",
        "\n",
        "  processed_data = one_hot_encode(data_array,unique_values)\n",
        "  \n",
        "  for i in range(0,len(processed_data) - seq_length,1):\n",
        "    input_seq.append([processed_data[i:i+seq_length]])\n",
        "    output_seq.append(processed_data[seq_length + i])\n",
        "\n",
        "  del processed_data;gc.collect()\n",
        "  \n",
        "  input_seq = np.stack(arr[0] for arr in input_seq)\n",
        "  output_seq = np.array(output_seq)\n",
        "\n",
        "  return input_seq, output_seq"
      ]
    },
    {
      "cell_type": "code",
      "execution_count": null,
      "metadata": {
        "colab": {
          "base_uri": "https://localhost:8080/"
        },
        "id": "utzraCh5bx4M",
        "outputId": "0588a9ad-7ca7-4733-a724-b61b2e0c2659"
      },
      "outputs": [
        {
          "output_type": "stream",
          "name": "stderr",
          "text": [
            "/usr/local/lib/python3.7/dist-packages/IPython/core/interactiveshell.py:3326: FutureWarning: arrays to stack must be passed as a \"sequence\" type such as list or tuple. Support for non-sequence iterables such as generators is deprecated as of NumPy 1.16 and will raise an error in the future.\n",
            "  exec(code_obj, self.user_global_ns, self.user_ns)\n"
          ]
        }
      ],
      "source": [
        "note_model_data = make_segments(data_array = note_data, unique_values = unique_notes,segment_type = 'note')\n",
        "offset_model_data = make_segments(data_array = offset_data, unique_values = unique_offsets,segment_type = 'offset')"
      ]
    },
    {
      "cell_type": "code",
      "execution_count": null,
      "metadata": {
        "id": "XYOpsKKdquwj"
      },
      "outputs": [],
      "source": [
        "X_train_note, X_test_note, y_train_note, y_test_note = train_test_split(note_model_data[0], note_model_data[1],test_size=0.2)\n",
        "X_train_off, X_test_off, y_train_off, y_test_off = train_test_split(offset_model_data[0], offset_model_data[1],test_size=0.2)"
      ]
    },
    {
      "cell_type": "code",
      "source": [
        "del note_model_data\n",
        "del offset_model_data\n",
        "gc.collect()"
      ],
      "metadata": {
        "colab": {
          "base_uri": "https://localhost:8080/"
        },
        "id": "8fJhKOo-5swc",
        "outputId": "9e6946a6-45d5-4aef-f370-8c77107d1c16"
      },
      "execution_count": null,
      "outputs": [
        {
          "output_type": "execute_result",
          "data": {
            "text/plain": [
              "44"
            ]
          },
          "metadata": {},
          "execution_count": 12
        }
      ]
    },
    {
      "cell_type": "code",
      "execution_count": null,
      "metadata": {
        "id": "xlEoPwhuwo1i"
      },
      "outputs": [],
      "source": [
        "def make_model(input_shape,output_shape):\n",
        "  model = Sequential()\n",
        "  model.add(CuDNNLSTM(512,input_shape=input_shape,return_sequences=False))\n",
        "  model.add(Dropout(0.5))\n",
        "  model.add(Dense(256))\n",
        "  model.add(Dropout(0.25))\n",
        "  model.add(Dense(output_shape,activation = 'softmax'))\n",
        "\n",
        "  model.compile(\n",
        "      loss='categorical_crossentropy',\n",
        "      optimizer=Adam(learning_rate = .001),\n",
        "      metrics=['accuracy']\n",
        "  )\n",
        "  return model"
      ]
    },
    {
      "cell_type": "code",
      "execution_count": null,
      "metadata": {
        "id": "hsMf8cKdb8MF"
      },
      "outputs": [],
      "source": [
        "model_notes = make_model(input_shape = (segment_length,unique_note_number), output_shape = unique_note_number)\n",
        "model_offsets = make_model(input_shape = (segment_length,unique_offset_number), output_shape = unique_offset_number)"
      ]
    },
    {
      "cell_type": "code",
      "execution_count": null,
      "metadata": {
        "id": "0zDE5bAKcNAY"
      },
      "outputs": [],
      "source": [
        "my_callbacks = [\n",
        "    tf.keras.callbacks.EarlyStopping(patience=10)\n",
        "]"
      ]
    },
    {
      "cell_type": "code",
      "execution_count": null,
      "metadata": {
        "colab": {
          "base_uri": "https://localhost:8080/"
        },
        "id": "aQq6PZXycBIB",
        "outputId": "9feb26f1-1608-4df0-e39e-b0dafd452747"
      },
      "outputs": [
        {
          "output_type": "stream",
          "name": "stdout",
          "text": [
            "Epoch 1/150\n",
            "604/604 [==============================] - 10s 16ms/step - loss: 4.2591 - accuracy: 0.0930 - val_loss: 3.8012 - val_accuracy: 0.1435\n",
            "Epoch 2/150\n",
            "604/604 [==============================] - 9s 15ms/step - loss: 3.6287 - accuracy: 0.1543 - val_loss: 3.5280 - val_accuracy: 0.1624\n",
            "Epoch 3/150\n",
            "604/604 [==============================] - 9s 15ms/step - loss: 3.3542 - accuracy: 0.1914 - val_loss: 3.3688 - val_accuracy: 0.1853\n",
            "Epoch 4/150\n",
            "604/604 [==============================] - 9s 15ms/step - loss: 3.1398 - accuracy: 0.2221 - val_loss: 3.2040 - val_accuracy: 0.2272\n",
            "Epoch 5/150\n",
            "604/604 [==============================] - 9s 15ms/step - loss: 2.9280 - accuracy: 0.2704 - val_loss: 3.0296 - val_accuracy: 0.2702\n",
            "Epoch 6/150\n",
            "604/604 [==============================] - 9s 15ms/step - loss: 2.7198 - accuracy: 0.3145 - val_loss: 2.8943 - val_accuracy: 0.2999\n",
            "Epoch 7/150\n",
            "604/604 [==============================] - 9s 15ms/step - loss: 2.5246 - accuracy: 0.3607 - val_loss: 2.7975 - val_accuracy: 0.3274\n",
            "Epoch 8/150\n",
            "604/604 [==============================] - 9s 15ms/step - loss: 2.3317 - accuracy: 0.4009 - val_loss: 2.6659 - val_accuracy: 0.3667\n",
            "Epoch 9/150\n",
            "604/604 [==============================] - 9s 15ms/step - loss: 2.1546 - accuracy: 0.4413 - val_loss: 2.6062 - val_accuracy: 0.3937\n",
            "Epoch 10/150\n",
            "604/604 [==============================] - 9s 15ms/step - loss: 1.9819 - accuracy: 0.4807 - val_loss: 2.5075 - val_accuracy: 0.4233\n",
            "Epoch 11/150\n",
            "604/604 [==============================] - 9s 15ms/step - loss: 1.8209 - accuracy: 0.5196 - val_loss: 2.4217 - val_accuracy: 0.4593\n",
            "Epoch 12/150\n",
            "604/604 [==============================] - 9s 15ms/step - loss: 1.6610 - accuracy: 0.5586 - val_loss: 2.4231 - val_accuracy: 0.4701\n",
            "Epoch 13/150\n",
            "604/604 [==============================] - 9s 15ms/step - loss: 1.5101 - accuracy: 0.5925 - val_loss: 2.3633 - val_accuracy: 0.4960\n",
            "Epoch 14/150\n",
            "604/604 [==============================] - 9s 15ms/step - loss: 1.3916 - accuracy: 0.6175 - val_loss: 2.3199 - val_accuracy: 0.5096\n",
            "Epoch 15/150\n",
            "604/604 [==============================] - 9s 15ms/step - loss: 1.2651 - accuracy: 0.6474 - val_loss: 2.3054 - val_accuracy: 0.5318\n",
            "Epoch 16/150\n",
            "604/604 [==============================] - 9s 15ms/step - loss: 1.1431 - accuracy: 0.6767 - val_loss: 2.2956 - val_accuracy: 0.5492\n",
            "Epoch 17/150\n",
            "604/604 [==============================] - 9s 15ms/step - loss: 1.0518 - accuracy: 0.6998 - val_loss: 2.3465 - val_accuracy: 0.5535\n",
            "Epoch 18/150\n",
            "604/604 [==============================] - 9s 15ms/step - loss: 0.9655 - accuracy: 0.7211 - val_loss: 2.3400 - val_accuracy: 0.5684\n",
            "Epoch 19/150\n",
            "604/604 [==============================] - 9s 15ms/step - loss: 0.8731 - accuracy: 0.7489 - val_loss: 2.4113 - val_accuracy: 0.5776\n",
            "Epoch 20/150\n",
            "604/604 [==============================] - 9s 15ms/step - loss: 0.8098 - accuracy: 0.7659 - val_loss: 2.4233 - val_accuracy: 0.5865\n",
            "Epoch 21/150\n",
            "604/604 [==============================] - 9s 15ms/step - loss: 0.7324 - accuracy: 0.7799 - val_loss: 2.4380 - val_accuracy: 0.5943\n",
            "Epoch 22/150\n",
            "604/604 [==============================] - 9s 15ms/step - loss: 0.6872 - accuracy: 0.7961 - val_loss: 2.4933 - val_accuracy: 0.5981\n",
            "Epoch 23/150\n",
            "604/604 [==============================] - 9s 15ms/step - loss: 0.6189 - accuracy: 0.8165 - val_loss: 2.5424 - val_accuracy: 0.5997\n",
            "Epoch 24/150\n",
            "604/604 [==============================] - 9s 15ms/step - loss: 0.5752 - accuracy: 0.8282 - val_loss: 2.5784 - val_accuracy: 0.5972\n",
            "Epoch 25/150\n",
            "604/604 [==============================] - 9s 15ms/step - loss: 0.5343 - accuracy: 0.8384 - val_loss: 2.6503 - val_accuracy: 0.6057\n",
            "Epoch 26/150\n",
            "604/604 [==============================] - 9s 15ms/step - loss: 0.5047 - accuracy: 0.8519 - val_loss: 2.7176 - val_accuracy: 0.6084\n"
          ]
        }
      ],
      "source": [
        "history_note = model_notes.fit(X_train_note,y_train_note,epochs=150, validation_split = 0.2, callbacks = my_callbacks)"
      ]
    },
    {
      "cell_type": "code",
      "execution_count": null,
      "metadata": {
        "colab": {
          "base_uri": "https://localhost:8080/"
        },
        "id": "eGp9R-18cEbB",
        "outputId": "18fc3995-c700-4c5d-8cb5-37bbe6ad2244"
      },
      "outputs": [
        {
          "output_type": "stream",
          "name": "stdout",
          "text": [
            "Epoch 1/150\n",
            "604/604 [==============================] - 8s 13ms/step - loss: 1.1226 - accuracy: 0.5916 - val_loss: 0.9434 - val_accuracy: 0.6413\n",
            "Epoch 2/150\n",
            "604/604 [==============================] - 7s 12ms/step - loss: 0.9464 - accuracy: 0.6535 - val_loss: 0.8582 - val_accuracy: 0.6948\n",
            "Epoch 3/150\n",
            "604/604 [==============================] - 7s 12ms/step - loss: 0.8463 - accuracy: 0.6966 - val_loss: 0.7752 - val_accuracy: 0.7182\n",
            "Epoch 4/150\n",
            "604/604 [==============================] - 7s 12ms/step - loss: 0.7660 - accuracy: 0.7242 - val_loss: 0.7098 - val_accuracy: 0.7422\n",
            "Epoch 5/150\n",
            "604/604 [==============================] - 7s 12ms/step - loss: 0.7217 - accuracy: 0.7425 - val_loss: 0.6705 - val_accuracy: 0.7708\n",
            "Epoch 6/150\n",
            "604/604 [==============================] - 7s 12ms/step - loss: 0.6893 - accuracy: 0.7523 - val_loss: 0.6428 - val_accuracy: 0.7764\n",
            "Epoch 7/150\n",
            "604/604 [==============================] - 7s 12ms/step - loss: 0.6558 - accuracy: 0.7658 - val_loss: 0.6281 - val_accuracy: 0.7793\n",
            "Epoch 8/150\n",
            "604/604 [==============================] - 7s 12ms/step - loss: 0.6207 - accuracy: 0.7804 - val_loss: 0.6103 - val_accuracy: 0.7927\n",
            "Epoch 9/150\n",
            "604/604 [==============================] - 7s 12ms/step - loss: 0.5879 - accuracy: 0.7950 - val_loss: 0.5984 - val_accuracy: 0.7960\n",
            "Epoch 10/150\n",
            "604/604 [==============================] - 7s 12ms/step - loss: 0.5546 - accuracy: 0.8090 - val_loss: 0.5560 - val_accuracy: 0.8176\n",
            "Epoch 11/150\n",
            "604/604 [==============================] - 7s 12ms/step - loss: 0.5255 - accuracy: 0.8179 - val_loss: 0.5613 - val_accuracy: 0.8116\n",
            "Epoch 12/150\n",
            "604/604 [==============================] - 7s 12ms/step - loss: 0.4885 - accuracy: 0.8307 - val_loss: 0.5372 - val_accuracy: 0.8169\n",
            "Epoch 13/150\n",
            "604/604 [==============================] - 7s 12ms/step - loss: 0.4609 - accuracy: 0.8410 - val_loss: 0.5228 - val_accuracy: 0.8360\n",
            "Epoch 14/150\n",
            "604/604 [==============================] - 7s 12ms/step - loss: 0.4358 - accuracy: 0.8506 - val_loss: 0.5211 - val_accuracy: 0.8333\n",
            "Epoch 15/150\n",
            "604/604 [==============================] - 7s 12ms/step - loss: 0.4038 - accuracy: 0.8600 - val_loss: 0.5082 - val_accuracy: 0.8410\n",
            "Epoch 16/150\n",
            "604/604 [==============================] - 7s 12ms/step - loss: 0.3810 - accuracy: 0.8701 - val_loss: 0.4924 - val_accuracy: 0.8484\n",
            "Epoch 17/150\n",
            "604/604 [==============================] - 7s 12ms/step - loss: 0.3606 - accuracy: 0.8757 - val_loss: 0.4870 - val_accuracy: 0.8509\n",
            "Epoch 18/150\n",
            "604/604 [==============================] - 7s 12ms/step - loss: 0.3350 - accuracy: 0.8847 - val_loss: 0.4997 - val_accuracy: 0.8563\n",
            "Epoch 19/150\n",
            "604/604 [==============================] - 7s 12ms/step - loss: 0.3167 - accuracy: 0.8930 - val_loss: 0.4937 - val_accuracy: 0.8526\n",
            "Epoch 20/150\n",
            "604/604 [==============================] - 7s 12ms/step - loss: 0.2967 - accuracy: 0.9000 - val_loss: 0.5029 - val_accuracy: 0.8567\n",
            "Epoch 21/150\n",
            "604/604 [==============================] - 7s 12ms/step - loss: 0.2810 - accuracy: 0.9045 - val_loss: 0.5014 - val_accuracy: 0.8548\n",
            "Epoch 22/150\n",
            "604/604 [==============================] - 7s 12ms/step - loss: 0.2679 - accuracy: 0.9105 - val_loss: 0.4767 - val_accuracy: 0.8693\n",
            "Epoch 23/150\n",
            "604/604 [==============================] - 7s 12ms/step - loss: 0.2459 - accuracy: 0.9176 - val_loss: 0.5011 - val_accuracy: 0.8668\n",
            "Epoch 24/150\n",
            "604/604 [==============================] - 7s 12ms/step - loss: 0.2380 - accuracy: 0.9218 - val_loss: 0.4923 - val_accuracy: 0.8722\n",
            "Epoch 25/150\n",
            "604/604 [==============================] - 7s 12ms/step - loss: 0.2205 - accuracy: 0.9301 - val_loss: 0.5052 - val_accuracy: 0.8689\n",
            "Epoch 26/150\n",
            "604/604 [==============================] - 7s 12ms/step - loss: 0.2133 - accuracy: 0.9296 - val_loss: 0.5063 - val_accuracy: 0.8675\n",
            "Epoch 27/150\n",
            "604/604 [==============================] - 7s 12ms/step - loss: 0.1976 - accuracy: 0.9355 - val_loss: 0.5554 - val_accuracy: 0.8681\n",
            "Epoch 28/150\n",
            "604/604 [==============================] - 7s 12ms/step - loss: 0.2027 - accuracy: 0.9340 - val_loss: 0.5166 - val_accuracy: 0.8735\n",
            "Epoch 29/150\n",
            "604/604 [==============================] - 7s 12ms/step - loss: 0.1822 - accuracy: 0.9400 - val_loss: 0.5248 - val_accuracy: 0.8735\n",
            "Epoch 30/150\n",
            "604/604 [==============================] - 7s 12ms/step - loss: 0.1702 - accuracy: 0.9431 - val_loss: 0.5656 - val_accuracy: 0.8745\n",
            "Epoch 31/150\n",
            "604/604 [==============================] - 7s 12ms/step - loss: 0.1691 - accuracy: 0.9441 - val_loss: 0.5410 - val_accuracy: 0.8784\n",
            "Epoch 32/150\n",
            "604/604 [==============================] - 7s 12ms/step - loss: 0.1576 - accuracy: 0.9485 - val_loss: 0.5790 - val_accuracy: 0.8776\n"
          ]
        }
      ],
      "source": [
        "history_offset = model_offsets.fit(X_train_off,y_train_off,epochs=150, validation_split = 0.2,callbacks = my_callbacks)"
      ]
    },
    {
      "cell_type": "code",
      "execution_count": null,
      "metadata": {
        "id": "zjWjzlEXui7-"
      },
      "outputs": [],
      "source": [
        "def music_maker(seed_vec,model_type,number_unique,unique,num_notes = 150):\n",
        "  music = []\n",
        "  arr = np.zeros((len(seed_vec)+num_notes,number_unique))\n",
        "  for c,i in enumerate(seed_vec):\n",
        "    arr[c] = i\n",
        "\n",
        "  for i in range(0,num_notes,1):\n",
        "    pred = model_type.predict(np.reshape(arr[i:len(arr)-num_notes+i], (1, len(arr[i:len(arr)-num_notes+i]),number_unique)),verbose = 0)[0]\n",
        "    music.append(one_hot_decode(pred,all_values = unique)[0])\n",
        "    arr[len(seed_vec)+i] = pred\n",
        "  \n",
        "  return music"
      ]
    },
    {
      "cell_type": "code",
      "execution_count": null,
      "metadata": {
        "id": "EfvuENYGWFkf"
      },
      "outputs": [],
      "source": [
        "test_note = X_test_note[5]\n",
        "test_offset = X_test_off[5]\n",
        "generated_music_note = music_maker(test_note, model_notes, unique_note_number,unique_notes)\n",
        "generated_music_offset = music_maker(test_offset,model_offsets,unique_offset_number,unique_offsets)"
      ]
    },
    {
      "cell_type": "code",
      "source": [
        "seed_notes = []\n",
        "seed_offsets = []\n",
        "for n in test_note:\n",
        "  seed_notes.append(one_hot_decode(n ,unique_notes)[0]) \n",
        "for o in test_offset:\n",
        "  seed_offsets.append(one_hot_decode(o ,unique_offsets)[0]) "
      ],
      "metadata": {
        "id": "Xv54x8ozxBBH"
      },
      "execution_count": null,
      "outputs": []
    },
    {
      "cell_type": "code",
      "execution_count": null,
      "metadata": {
        "colab": {
          "base_uri": "https://localhost:8080/",
          "height": 37
        },
        "id": "qqCfHbIPxpPr",
        "outputId": "7b596fa2-9e53-4190-9564-99d5ecbf6bba"
      },
      "outputs": [
        {
          "output_type": "execute_result",
          "data": {
            "text/plain": [
              "'seed_classical.mid'"
            ],
            "application/vnd.google.colaboratory.intrinsic+json": {
              "type": "string"
            }
          },
          "metadata": {},
          "execution_count": 34
        }
      ],
      "source": [
        "to_midi(generated_music_note,generated_music_offset).write('midi', \"generated_classical.mid\")\n",
        "to_midi(seed_notes,seed_offsets).write('midi', \"seed_classical.mid\")\n"
      ]
    }
  ],
  "metadata": {
    "accelerator": "GPU",
    "colab": {
      "machine_shape": "hm",
      "provenance": []
    },
    "gpuClass": "premium",
    "kernelspec": {
      "display_name": "Python 3",
      "name": "python3"
    },
    "language_info": {
      "name": "python"
    }
  },
  "nbformat": 4,
  "nbformat_minor": 0
}
